{
 "cells": [
  {
   "cell_type": "markdown",
   "id": "9f17af23",
   "metadata": {},
   "source": [
    "# 실습 1 투두리스트"
   ]
  },
  {
   "cell_type": "code",
   "execution_count": null,
   "id": "b8a86942",
   "metadata": {},
   "outputs": [],
   "source": [
    "todo_list = []\n",
    "\n",
    "while True:\n",
    "    print(\"할 일 관리 프로그램입니다. 하나를 선택하세요:\")\n",
    "    print(\"'add' 할 일 추가\")\n",
    "    print(\"'check' 할 일 완료처리\")\n",
    "    print(\"'show' 할 일 보기\")\n",
    "    print(\"'exit' 종료\")\n",
    "\n",
    "    # 입력받기\n",
    "    choice = input(\"명령을 입력하세요: \")\n",
    "\n",
    "    if choice == \"add\":\n",
    "        # 할 일 추가\n",
    "        task = input(\"할 일 내용을 입력하세요: \")\n",
    "        todo_list.append(task)\n",
    "        print(f\"할 일 '{task}' 목록에 추가했습니다.\")\n",
    "\n",
    "    elif choice == \"check\":\n",
    "        # 완료처리(제거)\n",
    "        if len(todo_list) == 0:\n",
    "            print(\"입력된 할 일 목록이 없습니다\")\n",
    "        else:\n",
    "            index = int(input(\"완료한 일의 인덱스를 입력하세요 (1 to N): \"))\n",
    "            if 1 <= index <= len(todo_list):\n",
    "                completed_task = todo_list.pop(index - 1)\n",
    "                print(f\"할 일 '{completed_task}' 완료 처리되었습니다.\")\n",
    "            else:\n",
    "                print(\"잘못된 인덱스입니다.\")\n",
    "\n",
    "    elif choice == \"show\":\n",
    "        # 목록 보여주기\n",
    "        print(\"현재 할 일 목록:\")\n",
    "        for index, task in enumerate(todo_list, start=1):\n",
    "            print(f\"{index}. {task}\")\n",
    "    \n",
    "    elif choice == \"exit\":\n",
    "        # 종료\n",
    "        print(\"프로그램이 종료되었습니다\")\n",
    "        break\n",
    "\n",
    "    else:\n",
    "        print(\"명령을 다시 입력하세요 ('add', 'check', 'show', 'exit').\")\n"
   ]
  },
  {
   "cell_type": "markdown",
   "id": "91ea83aa",
   "metadata": {},
   "source": [
    "# 실습 2 문자열압축"
   ]
  },
  {
   "cell_type": "code",
   "execution_count": null,
   "id": "2514d025",
   "metadata": {},
   "outputs": [],
   "source": [
    "# 문자열 압축하는 함수\n",
    "def compress_string(s):\n",
    "    compressed = []\n",
    "    count = 1\n",
    "\n",
    "    for i in range(1, len(s)):\n",
    "        if s[i] == s[i - 1]:\n",
    "            count += 1\n",
    "        else:\n",
    "            compressed.append(s[i - 1] + str(count))\n",
    "            count = 1\n",
    "\n",
    "    compressed.append(s[-1] + str(count))\n",
    "    compressed_str = ''.join(compressed)\n",
    "\n",
    "    return compressed_str\n",
    "\n",
    "# 문자열 입력받기\n",
    "user_input = input(\"문자열을 입력하세요: \")\n",
    "\n",
    "# 압축하기\n",
    "compressed_result = compress_string(user_input)\n",
    "\n",
    "# 길이 비교 후 결과 출력\n",
    "if len(compressed_result) < len(user_input):\n",
    "    print(\"압축된 문자열:\", compressed_result)\n",
    "else:\n",
    "    print(\"압축된 문자열보다 원래 문자열이 짧거나 같습니다:\", user_input)\n"
   ]
  },
  {
   "cell_type": "markdown",
   "id": "9b1fab04",
   "metadata": {},
   "source": [
    "# 실습 3 단어추출통계"
   ]
  },
  {
   "cell_type": "code",
   "execution_count": null,
   "id": "c88c5601",
   "metadata": {},
   "outputs": [],
   "source": [
    "# 1) 사용자로부터 텍스트 데이터를 입력 받는다.\n",
    "text_data = input(\"텍스트 데이터를 입력하세요: \")\n",
    "\n",
    "# 2) 입력 받은 텍스트 데이터의 공백을 기준으로 단어를 분리한다.\n",
    "words = text_data.split()\n",
    "\n",
    "# 3) 각 단어의 등장 횟수를 세어 딕셔너리에 저장한다.\n",
    "word_count = {}\n",
    "for word in words:\n",
    "    if word in word_count:\n",
    "        word_count[word] += 1\n",
    "    else:\n",
    "        word_count[word] = 1\n",
    "\n",
    "# 4) 등장 횟수가 가장 많은 단어와 등장 횟수를 찾아 출력한다.\n",
    "most_common_word = max(word_count, key=word_count.get)\n",
    "most_common_count = word_count[most_common_word]\n",
    "print(f\"가장 많이 등장한 단어: {most_common_word}, 등장 횟수: {most_common_count}\")\n",
    "\n",
    "# 5) 등장 횟수가 가장 적은 단어와 등장 횟수를 찾아 출력한다.\n",
    "least_common_word = min(word_count, key=word_count.get)\n",
    "least_common_count = word_count[least_common_word]\n",
    "print(f\"가장 적게 등장한 단어: {least_common_word}, 등장 횟수: {least_common_count}\")\n"
   ]
  }
 ],
 "metadata": {
  "kernelspec": {
   "display_name": "Python 3 (ipykernel)",
   "language": "python",
   "name": "python3"
  },
  "language_info": {
   "codemirror_mode": {
    "name": "ipython",
    "version": 3
   },
   "file_extension": ".py",
   "mimetype": "text/x-python",
   "name": "python",
   "nbconvert_exporter": "python",
   "pygments_lexer": "ipython3",
   "version": "3.10.9"
  }
 },
 "nbformat": 4,
 "nbformat_minor": 5
}
