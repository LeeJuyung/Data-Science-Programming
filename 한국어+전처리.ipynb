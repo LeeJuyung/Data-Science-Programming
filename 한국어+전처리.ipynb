{
 "cells": [
  {
   "cell_type": "markdown",
   "id": "b9212874-60bb-4c91-bcc7-3a0b3fec1f41",
   "metadata": {},
   "source": [
    "## 한국어 토큰화"
   ]
  },
  {
   "cell_type": "code",
   "execution_count": 1,
   "id": "89c9daff-1802-48fd-b555-5ec9d7b81b5c",
   "metadata": {},
   "outputs": [],
   "source": [
    "import jpype\n",
    "import konlpy"
   ]
  },
  {
   "cell_type": "code",
   "execution_count": 2,
   "id": "7c7dbb98-e28f-4e21-b8f3-4d26868edced",
   "metadata": {},
   "outputs": [],
   "source": [
    "from konlpy.tag import Okt\n",
    "from konlpy.tag import Kkma\n",
    "from konlpy.tag import Hannanum\n",
    "from konlpy.tag import Komoran\n",
    "\n",
    "okt=Okt()\n",
    "kkma=Kkma()\n",
    "han=Hannanum()\n",
    "kom=Komoran()"
   ]
  },
  {
   "cell_type": "code",
   "execution_count": 3,
   "id": "b3c51607-1d15-4260-b75b-fa98f6aa7fbe",
   "metadata": {},
   "outputs": [],
   "source": [
    "sentence='아버지가방에들어가신다'"
   ]
  },
  {
   "cell_type": "code",
   "execution_count": 4,
   "id": "500209fd-b07b-4932-b59c-76ce558cf3fe",
   "metadata": {},
   "outputs": [
    {
     "name": "stdout",
     "output_type": "stream",
     "text": [
      "OKT 형태소 분석:  ['아버지', '가방', '에', '들어가신다']\n",
      "OKT 품사 태깅:  [('아버지', 'Noun'), ('가방', 'Noun'), ('에', 'Josa'), ('들어가신다', 'Verb')]\n",
      "OKT 명사 추출:  ['아버지', '가방']\n"
     ]
    }
   ],
   "source": [
    "print('OKT 형태소 분석: ', okt.morphs(sentence))\n",
    "print('OKT 품사 태깅: ', okt.pos(sentence))\n",
    "print('OKT 명사 추출: ', okt.nouns(sentence))"
   ]
  },
  {
   "cell_type": "code",
   "execution_count": 6,
   "id": "b4385bab-63be-4a01-9f94-ecb930fbe8a4",
   "metadata": {},
   "outputs": [
    {
     "name": "stdout",
     "output_type": "stream",
     "text": [
      "Kkma 형태소 분석:  ['아버지', '가방', '에', '들어가', '시', 'ㄴ다']\n",
      "Kkma 품사 태깅:  [('아버지', 'NNG'), ('가방', 'NNG'), ('에', 'JKM'), ('들어가', 'VV'), ('시', 'EPH'), ('ㄴ다', 'EFN')]\n",
      "Kkma 명사 추출:  ['아버지', '아버지가방', '가방']\n"
     ]
    }
   ],
   "source": [
    "print('Kkma 형태소 분석: ', kkma.morphs(sentence))\n",
    "print('Kkma 품사 태깅: ', kkma.pos(sentence))\n",
    "print('Kkma 명사 추출: ', kkma.nouns(sentence))"
   ]
  },
  {
   "cell_type": "code",
   "execution_count": 7,
   "id": "429ef7e3-50b8-4d59-a40e-33d44bb1e0e3",
   "metadata": {},
   "outputs": [
    {
     "name": "stdout",
     "output_type": "stream",
     "text": [
      "Hannanum 형태소 분석:  ['아버지가방에들어가', '이', '시ㄴ다']\n",
      "Hannanum 품사 태깅:  [('아버지가방에들어가', 'N'), ('이', 'J'), ('시ㄴ다', 'E')]\n",
      "Hannanum 명사 추출:  ['아버지가방에들어가']\n"
     ]
    }
   ],
   "source": [
    "print('Hannanum 형태소 분석: ', han.morphs(sentence))\n",
    "print('Hannanum 품사 태깅: ', han.pos(sentence))\n",
    "print('Hannanum 명사 추출: ', han.nouns(sentence))"
   ]
  },
  {
   "cell_type": "code",
   "execution_count": 8,
   "id": "0d7e3c18-715d-4105-95c8-5a43d3f076d7",
   "metadata": {},
   "outputs": [
    {
     "name": "stdout",
     "output_type": "stream",
     "text": [
      "Komoran 형태소 분석:  ['아버지', '가방', '에', '들어가', '시', 'ㄴ다']\n",
      "Komoran 품사 태깅:  [('아버지', 'NNG'), ('가방', 'NNP'), ('에', 'JKB'), ('들어가', 'VV'), ('시', 'EP'), ('ㄴ다', 'EC')]\n",
      "Komoran 명사 추출:  ['아버지', '가방']\n"
     ]
    }
   ],
   "source": [
    "print('Komoran 형태소 분석: ', kom.morphs(sentence))\n",
    "print('Komoran 품사 태깅: ', kom.pos(sentence))\n",
    "print('Komoran 명사 추출: ', kom.nouns(sentence))"
   ]
  },
  {
   "cell_type": "markdown",
   "id": "71bf06bd-7105-4d02-8805-9f34c289c7bc",
   "metadata": {},
   "source": [
    "## 불용어 제거"
   ]
  },
  {
   "cell_type": "code",
   "execution_count": 9,
   "id": "6d8bb348-bc2d-483f-92e2-5a33bd7b919d",
   "metadata": {},
   "outputs": [
    {
     "name": "stdout",
     "output_type": "stream",
     "text": [
      "불용어 제거 전 : ['의미', '없는', '단어', '를', '제거', '하는', '것', '은', '텍스트', '분석', '에서', '매우', '중요한', '과정', '입니다', '.', '왜냐하면', '불', '용어', '를', '제거', '해야', '보다', '의미', '있는', '분석', '이', '가능하기', '때문', '입니다', '.']\n",
      "불용어 제거 후 : ['의미', '단어', '제거', '텍스트', '분석', '과정', '입니다', '.', '불', '용어', '제거', '해야', '의미', '분석', '가능하기', '때문', '입니다', '.']\n"
     ]
    }
   ],
   "source": [
    "okt = Okt()\n",
    "\n",
    "example = \"의미 없는 단어를 제거하는 것은 텍스트 분석에서 매우 중요한 과정입니다. 왜냐하면 불용어를 제거해야 보다 의미있는 분석이 가능하기 때문입니다.\"\n",
    "stop_words = \"없는 를 하는 것 은 에서 매우 중요한 과정입니다. 왜냐하면 보다 있는 이\"\n",
    "\n",
    "stop_words = set(stop_words.split(' '))\n",
    "word_tokens = okt.morphs(example)\n",
    "\n",
    "result = [word for word in word_tokens if not word in stop_words]\n",
    "\n",
    "print('불용어 제거 전 :',word_tokens) \n",
    "print('불용어 제거 후 :',result)"
   ]
  },
  {
   "cell_type": "code",
   "execution_count": null,
   "id": "6ebe325d-20fd-4e58-8146-a35e9f0a4dd2",
   "metadata": {},
   "outputs": [],
   "source": []
  }
 ],
 "metadata": {
  "kernelspec": {
   "display_name": "Python 3 (ipykernel)",
   "language": "python",
   "name": "python3"
  },
  "language_info": {
   "codemirror_mode": {
    "name": "ipython",
    "version": 3
   },
   "file_extension": ".py",
   "mimetype": "text/x-python",
   "name": "python",
   "nbconvert_exporter": "python",
   "pygments_lexer": "ipython3",
   "version": "3.10.9"
  }
 },
 "nbformat": 4,
 "nbformat_minor": 5
}
